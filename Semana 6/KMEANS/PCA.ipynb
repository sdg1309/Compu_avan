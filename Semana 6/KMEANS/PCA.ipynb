{
 "cells": [
  {
   "cell_type": "code",
   "execution_count": 1,
   "metadata": {},
   "outputs": [],
   "source": [
    "import numpy as np\n",
    "import pandas as pd\n",
    "import seaborn as sns\n",
    "import matplotlib.pyplot as plt\n",
    "from sklearn.datasets import load_iris\n",
    "from sklearn.preprocessing import StandardScaler"
   ]
  },
  {
   "cell_type": "markdown",
   "metadata": {},
   "source": [
    "# Preprocesamiento de datos:\n",
    "\n",
    "https://scikit-learn.org/stable/datasets/toy_dataset.html#iris-plants-dataset"
   ]
  },
  {
   "cell_type": "code",
   "execution_count": 2,
   "metadata": {
    "scrolled": true,
    "tags": []
   },
   "outputs": [
    {
     "data": {
      "text/plain": [
       "{'data': array([[5.1, 3.5, 1.4, 0.2],\n",
       "        [4.9, 3. , 1.4, 0.2],\n",
       "        [4.7, 3.2, 1.3, 0.2],\n",
       "        [4.6, 3.1, 1.5, 0.2],\n",
       "        [5. , 3.6, 1.4, 0.2],\n",
       "        [5.4, 3.9, 1.7, 0.4],\n",
       "        [4.6, 3.4, 1.4, 0.3],\n",
       "        [5. , 3.4, 1.5, 0.2],\n",
       "        [4.4, 2.9, 1.4, 0.2],\n",
       "        [4.9, 3.1, 1.5, 0.1],\n",
       "        [5.4, 3.7, 1.5, 0.2],\n",
       "        [4.8, 3.4, 1.6, 0.2],\n",
       "        [4.8, 3. , 1.4, 0.1],\n",
       "        [4.3, 3. , 1.1, 0.1],\n",
       "        [5.8, 4. , 1.2, 0.2],\n",
       "        [5.7, 4.4, 1.5, 0.4],\n",
       "        [5.4, 3.9, 1.3, 0.4],\n",
       "        [5.1, 3.5, 1.4, 0.3],\n",
       "        [5.7, 3.8, 1.7, 0.3],\n",
       "        [5.1, 3.8, 1.5, 0.3],\n",
       "        [5.4, 3.4, 1.7, 0.2],\n",
       "        [5.1, 3.7, 1.5, 0.4],\n",
       "        [4.6, 3.6, 1. , 0.2],\n",
       "        [5.1, 3.3, 1.7, 0.5],\n",
       "        [4.8, 3.4, 1.9, 0.2],\n",
       "        [5. , 3. , 1.6, 0.2],\n",
       "        [5. , 3.4, 1.6, 0.4],\n",
       "        [5.2, 3.5, 1.5, 0.2],\n",
       "        [5.2, 3.4, 1.4, 0.2],\n",
       "        [4.7, 3.2, 1.6, 0.2],\n",
       "        [4.8, 3.1, 1.6, 0.2],\n",
       "        [5.4, 3.4, 1.5, 0.4],\n",
       "        [5.2, 4.1, 1.5, 0.1],\n",
       "        [5.5, 4.2, 1.4, 0.2],\n",
       "        [4.9, 3.1, 1.5, 0.2],\n",
       "        [5. , 3.2, 1.2, 0.2],\n",
       "        [5.5, 3.5, 1.3, 0.2],\n",
       "        [4.9, 3.6, 1.4, 0.1],\n",
       "        [4.4, 3. , 1.3, 0.2],\n",
       "        [5.1, 3.4, 1.5, 0.2],\n",
       "        [5. , 3.5, 1.3, 0.3],\n",
       "        [4.5, 2.3, 1.3, 0.3],\n",
       "        [4.4, 3.2, 1.3, 0.2],\n",
       "        [5. , 3.5, 1.6, 0.6],\n",
       "        [5.1, 3.8, 1.9, 0.4],\n",
       "        [4.8, 3. , 1.4, 0.3],\n",
       "        [5.1, 3.8, 1.6, 0.2],\n",
       "        [4.6, 3.2, 1.4, 0.2],\n",
       "        [5.3, 3.7, 1.5, 0.2],\n",
       "        [5. , 3.3, 1.4, 0.2],\n",
       "        [7. , 3.2, 4.7, 1.4],\n",
       "        [6.4, 3.2, 4.5, 1.5],\n",
       "        [6.9, 3.1, 4.9, 1.5],\n",
       "        [5.5, 2.3, 4. , 1.3],\n",
       "        [6.5, 2.8, 4.6, 1.5],\n",
       "        [5.7, 2.8, 4.5, 1.3],\n",
       "        [6.3, 3.3, 4.7, 1.6],\n",
       "        [4.9, 2.4, 3.3, 1. ],\n",
       "        [6.6, 2.9, 4.6, 1.3],\n",
       "        [5.2, 2.7, 3.9, 1.4],\n",
       "        [5. , 2. , 3.5, 1. ],\n",
       "        [5.9, 3. , 4.2, 1.5],\n",
       "        [6. , 2.2, 4. , 1. ],\n",
       "        [6.1, 2.9, 4.7, 1.4],\n",
       "        [5.6, 2.9, 3.6, 1.3],\n",
       "        [6.7, 3.1, 4.4, 1.4],\n",
       "        [5.6, 3. , 4.5, 1.5],\n",
       "        [5.8, 2.7, 4.1, 1. ],\n",
       "        [6.2, 2.2, 4.5, 1.5],\n",
       "        [5.6, 2.5, 3.9, 1.1],\n",
       "        [5.9, 3.2, 4.8, 1.8],\n",
       "        [6.1, 2.8, 4. , 1.3],\n",
       "        [6.3, 2.5, 4.9, 1.5],\n",
       "        [6.1, 2.8, 4.7, 1.2],\n",
       "        [6.4, 2.9, 4.3, 1.3],\n",
       "        [6.6, 3. , 4.4, 1.4],\n",
       "        [6.8, 2.8, 4.8, 1.4],\n",
       "        [6.7, 3. , 5. , 1.7],\n",
       "        [6. , 2.9, 4.5, 1.5],\n",
       "        [5.7, 2.6, 3.5, 1. ],\n",
       "        [5.5, 2.4, 3.8, 1.1],\n",
       "        [5.5, 2.4, 3.7, 1. ],\n",
       "        [5.8, 2.7, 3.9, 1.2],\n",
       "        [6. , 2.7, 5.1, 1.6],\n",
       "        [5.4, 3. , 4.5, 1.5],\n",
       "        [6. , 3.4, 4.5, 1.6],\n",
       "        [6.7, 3.1, 4.7, 1.5],\n",
       "        [6.3, 2.3, 4.4, 1.3],\n",
       "        [5.6, 3. , 4.1, 1.3],\n",
       "        [5.5, 2.5, 4. , 1.3],\n",
       "        [5.5, 2.6, 4.4, 1.2],\n",
       "        [6.1, 3. , 4.6, 1.4],\n",
       "        [5.8, 2.6, 4. , 1.2],\n",
       "        [5. , 2.3, 3.3, 1. ],\n",
       "        [5.6, 2.7, 4.2, 1.3],\n",
       "        [5.7, 3. , 4.2, 1.2],\n",
       "        [5.7, 2.9, 4.2, 1.3],\n",
       "        [6.2, 2.9, 4.3, 1.3],\n",
       "        [5.1, 2.5, 3. , 1.1],\n",
       "        [5.7, 2.8, 4.1, 1.3],\n",
       "        [6.3, 3.3, 6. , 2.5],\n",
       "        [5.8, 2.7, 5.1, 1.9],\n",
       "        [7.1, 3. , 5.9, 2.1],\n",
       "        [6.3, 2.9, 5.6, 1.8],\n",
       "        [6.5, 3. , 5.8, 2.2],\n",
       "        [7.6, 3. , 6.6, 2.1],\n",
       "        [4.9, 2.5, 4.5, 1.7],\n",
       "        [7.3, 2.9, 6.3, 1.8],\n",
       "        [6.7, 2.5, 5.8, 1.8],\n",
       "        [7.2, 3.6, 6.1, 2.5],\n",
       "        [6.5, 3.2, 5.1, 2. ],\n",
       "        [6.4, 2.7, 5.3, 1.9],\n",
       "        [6.8, 3. , 5.5, 2.1],\n",
       "        [5.7, 2.5, 5. , 2. ],\n",
       "        [5.8, 2.8, 5.1, 2.4],\n",
       "        [6.4, 3.2, 5.3, 2.3],\n",
       "        [6.5, 3. , 5.5, 1.8],\n",
       "        [7.7, 3.8, 6.7, 2.2],\n",
       "        [7.7, 2.6, 6.9, 2.3],\n",
       "        [6. , 2.2, 5. , 1.5],\n",
       "        [6.9, 3.2, 5.7, 2.3],\n",
       "        [5.6, 2.8, 4.9, 2. ],\n",
       "        [7.7, 2.8, 6.7, 2. ],\n",
       "        [6.3, 2.7, 4.9, 1.8],\n",
       "        [6.7, 3.3, 5.7, 2.1],\n",
       "        [7.2, 3.2, 6. , 1.8],\n",
       "        [6.2, 2.8, 4.8, 1.8],\n",
       "        [6.1, 3. , 4.9, 1.8],\n",
       "        [6.4, 2.8, 5.6, 2.1],\n",
       "        [7.2, 3. , 5.8, 1.6],\n",
       "        [7.4, 2.8, 6.1, 1.9],\n",
       "        [7.9, 3.8, 6.4, 2. ],\n",
       "        [6.4, 2.8, 5.6, 2.2],\n",
       "        [6.3, 2.8, 5.1, 1.5],\n",
       "        [6.1, 2.6, 5.6, 1.4],\n",
       "        [7.7, 3. , 6.1, 2.3],\n",
       "        [6.3, 3.4, 5.6, 2.4],\n",
       "        [6.4, 3.1, 5.5, 1.8],\n",
       "        [6. , 3. , 4.8, 1.8],\n",
       "        [6.9, 3.1, 5.4, 2.1],\n",
       "        [6.7, 3.1, 5.6, 2.4],\n",
       "        [6.9, 3.1, 5.1, 2.3],\n",
       "        [5.8, 2.7, 5.1, 1.9],\n",
       "        [6.8, 3.2, 5.9, 2.3],\n",
       "        [6.7, 3.3, 5.7, 2.5],\n",
       "        [6.7, 3. , 5.2, 2.3],\n",
       "        [6.3, 2.5, 5. , 1.9],\n",
       "        [6.5, 3. , 5.2, 2. ],\n",
       "        [6.2, 3.4, 5.4, 2.3],\n",
       "        [5.9, 3. , 5.1, 1.8]]),\n",
       " 'target': array([0, 0, 0, 0, 0, 0, 0, 0, 0, 0, 0, 0, 0, 0, 0, 0, 0, 0, 0, 0, 0, 0,\n",
       "        0, 0, 0, 0, 0, 0, 0, 0, 0, 0, 0, 0, 0, 0, 0, 0, 0, 0, 0, 0, 0, 0,\n",
       "        0, 0, 0, 0, 0, 0, 1, 1, 1, 1, 1, 1, 1, 1, 1, 1, 1, 1, 1, 1, 1, 1,\n",
       "        1, 1, 1, 1, 1, 1, 1, 1, 1, 1, 1, 1, 1, 1, 1, 1, 1, 1, 1, 1, 1, 1,\n",
       "        1, 1, 1, 1, 1, 1, 1, 1, 1, 1, 1, 1, 2, 2, 2, 2, 2, 2, 2, 2, 2, 2,\n",
       "        2, 2, 2, 2, 2, 2, 2, 2, 2, 2, 2, 2, 2, 2, 2, 2, 2, 2, 2, 2, 2, 2,\n",
       "        2, 2, 2, 2, 2, 2, 2, 2, 2, 2, 2, 2, 2, 2, 2, 2, 2, 2]),\n",
       " 'frame': None,\n",
       " 'target_names': array(['setosa', 'versicolor', 'virginica'], dtype='<U10'),\n",
       " 'DESCR': '.. _iris_dataset:\\n\\nIris plants dataset\\n--------------------\\n\\n**Data Set Characteristics:**\\n\\n    :Number of Instances: 150 (50 in each of three classes)\\n    :Number of Attributes: 4 numeric, predictive attributes and the class\\n    :Attribute Information:\\n        - sepal length in cm\\n        - sepal width in cm\\n        - petal length in cm\\n        - petal width in cm\\n        - class:\\n                - Iris-Setosa\\n                - Iris-Versicolour\\n                - Iris-Virginica\\n                \\n    :Summary Statistics:\\n\\n    ============== ==== ==== ======= ===== ====================\\n                    Min  Max   Mean    SD   Class Correlation\\n    ============== ==== ==== ======= ===== ====================\\n    sepal length:   4.3  7.9   5.84   0.83    0.7826\\n    sepal width:    2.0  4.4   3.05   0.43   -0.4194\\n    petal length:   1.0  6.9   3.76   1.76    0.9490  (high!)\\n    petal width:    0.1  2.5   1.20   0.76    0.9565  (high!)\\n    ============== ==== ==== ======= ===== ====================\\n\\n    :Missing Attribute Values: None\\n    :Class Distribution: 33.3% for each of 3 classes.\\n    :Creator: R.A. Fisher\\n    :Donor: Michael Marshall (MARSHALL%PLU@io.arc.nasa.gov)\\n    :Date: July, 1988\\n\\nThe famous Iris database, first used by Sir R.A. Fisher. The dataset is taken\\nfrom Fisher\\'s paper. Note that it\\'s the same as in R, but not as in the UCI\\nMachine Learning Repository, which has two wrong data points.\\n\\nThis is perhaps the best known database to be found in the\\npattern recognition literature.  Fisher\\'s paper is a classic in the field and\\nis referenced frequently to this day.  (See Duda & Hart, for example.)  The\\ndata set contains 3 classes of 50 instances each, where each class refers to a\\ntype of iris plant.  One class is linearly separable from the other 2; the\\nlatter are NOT linearly separable from each other.\\n\\n.. topic:: References\\n\\n   - Fisher, R.A. \"The use of multiple measurements in taxonomic problems\"\\n     Annual Eugenics, 7, Part II, 179-188 (1936); also in \"Contributions to\\n     Mathematical Statistics\" (John Wiley, NY, 1950).\\n   - Duda, R.O., & Hart, P.E. (1973) Pattern Classification and Scene Analysis.\\n     (Q327.D83) John Wiley & Sons.  ISBN 0-471-22361-1.  See page 218.\\n   - Dasarathy, B.V. (1980) \"Nosing Around the Neighborhood: A New System\\n     Structure and Classification Rule for Recognition in Partially Exposed\\n     Environments\".  IEEE Transactions on Pattern Analysis and Machine\\n     Intelligence, Vol. PAMI-2, No. 1, 67-71.\\n   - Gates, G.W. (1972) \"The Reduced Nearest Neighbor Rule\".  IEEE Transactions\\n     on Information Theory, May 1972, 431-433.\\n   - See also: 1988 MLC Proceedings, 54-64.  Cheeseman et al\"s AUTOCLASS II\\n     conceptual clustering system finds 3 classes in the data.\\n   - Many, many more ...',\n",
       " 'feature_names': ['sepal length (cm)',\n",
       "  'sepal width (cm)',\n",
       "  'petal length (cm)',\n",
       "  'petal width (cm)'],\n",
       " 'filename': 'C:\\\\ProgramData\\\\Anaconda3\\\\lib\\\\site-packages\\\\sklearn\\\\datasets\\\\data\\\\iris.csv'}"
      ]
     },
     "execution_count": 2,
     "metadata": {},
     "output_type": "execute_result"
    }
   ],
   "source": [
    "data = load_iris()\n",
    "data"
   ]
  },
  {
   "cell_type": "code",
   "execution_count": 3,
   "metadata": {},
   "outputs": [
    {
     "data": {
      "image/png": "[encoded data removed]",
      "text/plain": [
       "<Figure size 576x576 with 1 Axes>"
      ]
     },
     "metadata": {
      "needs_background": "light"
     },
     "output_type": "display_data"
    }
   ],
   "source": [
    "plt.figure(figsize=(8,8))\n",
    "sns.boxplot(data=pd.DataFrame(data['data'],columns=data['feature_names']))\n",
    "plt.show()"
   ]
  },
  {
   "cell_type": "code",
   "execution_count": 4,
   "metadata": {},
   "outputs": [
    {
     "data": {
      "text/html": [
       "<div>\n",
       "<style scoped>\n",
       "    .dataframe tbody tr th:only-of-type {\n",
       "        vertical-align: middle;\n",
       "    }\n",
       "\n",
       "    .dataframe tbody tr th {\n",
       "        vertical-align: top;\n",
       "    }\n",
       "\n",
       "    .dataframe thead th {\n",
       "        text-align: right;\n",
       "    }\n",
       "</style>\n",
       "<table border=\"1\" class=\"dataframe\">\n",
       "  <thead>\n",
       "    <tr style=\"text-align: right;\">\n",
       "      <th></th>\n",
       "      <th>petal length (cm)</th>\n",
       "      <th>sepal width (cm)</th>\n",
       "      <th>sepal length (cm)</th>\n",
       "      <th>petal width (cm)</th>\n",
       "    </tr>\n",
       "  </thead>\n",
       "  <tbody>\n",
       "    <tr>\n",
       "      <th>0</th>\n",
       "      <td>-1.340227</td>\n",
       "      <td>1.019004</td>\n",
       "      <td>-0.900681</td>\n",
       "      <td>-1.315444</td>\n",
       "    </tr>\n",
       "    <tr>\n",
       "      <th>1</th>\n",
       "      <td>-1.340227</td>\n",
       "      <td>-0.131979</td>\n",
       "      <td>-1.143017</td>\n",
       "      <td>-1.315444</td>\n",
       "    </tr>\n",
       "    <tr>\n",
       "      <th>2</th>\n",
       "      <td>-1.397064</td>\n",
       "      <td>0.328414</td>\n",
       "      <td>-1.385353</td>\n",
       "      <td>-1.315444</td>\n",
       "    </tr>\n",
       "    <tr>\n",
       "      <th>3</th>\n",
       "      <td>-1.283389</td>\n",
       "      <td>0.098217</td>\n",
       "      <td>-1.506521</td>\n",
       "      <td>-1.315444</td>\n",
       "    </tr>\n",
       "    <tr>\n",
       "      <th>4</th>\n",
       "      <td>-1.340227</td>\n",
       "      <td>1.249201</td>\n",
       "      <td>-1.021849</td>\n",
       "      <td>-1.315444</td>\n",
       "    </tr>\n",
       "    <tr>\n",
       "      <th>...</th>\n",
       "      <td>...</td>\n",
       "      <td>...</td>\n",
       "      <td>...</td>\n",
       "      <td>...</td>\n",
       "    </tr>\n",
       "    <tr>\n",
       "      <th>145</th>\n",
       "      <td>0.819596</td>\n",
       "      <td>-0.131979</td>\n",
       "      <td>1.038005</td>\n",
       "      <td>1.448832</td>\n",
       "    </tr>\n",
       "    <tr>\n",
       "      <th>146</th>\n",
       "      <td>0.705921</td>\n",
       "      <td>-1.282963</td>\n",
       "      <td>0.553333</td>\n",
       "      <td>0.922303</td>\n",
       "    </tr>\n",
       "    <tr>\n",
       "      <th>147</th>\n",
       "      <td>0.819596</td>\n",
       "      <td>-0.131979</td>\n",
       "      <td>0.795669</td>\n",
       "      <td>1.053935</td>\n",
       "    </tr>\n",
       "    <tr>\n",
       "      <th>148</th>\n",
       "      <td>0.933271</td>\n",
       "      <td>0.788808</td>\n",
       "      <td>0.432165</td>\n",
       "      <td>1.448832</td>\n",
       "    </tr>\n",
       "    <tr>\n",
       "      <th>149</th>\n",
       "      <td>0.762758</td>\n",
       "      <td>-0.131979</td>\n",
       "      <td>0.068662</td>\n",
       "      <td>0.790671</td>\n",
       "    </tr>\n",
       "  </tbody>\n",
       "</table>\n",
       "<p>150 rows × 4 columns</p>\n",
       "</div>"
      ],
      "text/plain": [
       "     petal length (cm)  sepal width (cm)  sepal length (cm)  petal width (cm)\n",
       "0            -1.340227          1.019004          -0.900681         -1.315444\n",
       "1            -1.340227         -0.131979          -1.143017         -1.315444\n",
       "2            -1.397064          0.328414          -1.385353         -1.315444\n",
       "3            -1.283389          0.098217          -1.506521         -1.315444\n",
       "4            -1.340227          1.249201          -1.021849         -1.315444\n",
       "..                 ...               ...                ...               ...\n",
       "145           0.819596         -0.131979           1.038005          1.448832\n",
       "146           0.705921         -1.282963           0.553333          0.922303\n",
       "147           0.819596         -0.131979           0.795669          1.053935\n",
       "148           0.933271          0.788808           0.432165          1.448832\n",
       "149           0.762758         -0.131979           0.068662          0.790671\n",
       "\n",
       "[150 rows x 4 columns]"
      ]
     },
     "execution_count": 4,
     "metadata": {},
     "output_type": "execute_result"
    }
   ],
   "source": [
    "array_standardized = StandardScaler().fit_transform(data['data'])\n",
    "df_standardized = pd.DataFrame(array_standardized,columns=data['feature_names'])\n",
    "#Esto lo hago para desordenar las columnas(solo para este caso)\n",
    "columnas=list(df_standardized.columns)\n",
    "np.random.seed(7)\n",
    "np.random.shuffle(columnas)\n",
    "df_standardized=df_standardized[columnas]\n",
    "#######################\n",
    "df_standardized"
   ]
  },
  {
   "cell_type": "code",
   "execution_count": 5,
   "metadata": {},
   "outputs": [
    {
     "data": {
      "image/png": "[encoded data removed]",
      "text/plain": [
       "<Figure size 576x576 with 1 Axes>"
      ]
     },
     "metadata": {
      "needs_background": "light"
     },
     "output_type": "display_data"
    }
   ],
   "source": [
    "plt.figure(figsize=(8,8))\n",
    "sns.boxplot(data=df_standardized)\n",
    "plt.show()"
   ]
  },
  {
   "cell_type": "markdown",
   "metadata": {},
   "source": [
    "# PCA:"
   ]
  },
  {
   "cell_type": "code",
   "execution_count": 6,
   "metadata": {},
   "outputs": [
    {
     "data": {
      "text/plain": [
       "(array([[ 1.00671141, -0.43131554,  0.87760447,  0.96932762],\n",
       "        [-0.43131554,  1.00671141, -0.11835884, -0.36858315],\n",
       "        [ 0.87760447, -0.11835884,  1.00671141,  0.82343066],\n",
       "        [ 0.96932762, -0.36858315,  0.82343066,  1.00671141]]),\n",
       "      petal length (cm)  sepal width (cm)  sepal length (cm)  petal width (cm)\n",
       " 0            -1.340227          1.019004          -0.900681         -1.315444\n",
       " 1            -1.340227         -0.131979          -1.143017         -1.315444\n",
       " 2            -1.397064          0.328414          -1.385353         -1.315444\n",
       " 3            -1.283389          0.098217          -1.506521         -1.315444\n",
       " 4            -1.340227          1.249201          -1.021849         -1.315444\n",
       " ..                 ...               ...                ...               ...\n",
       " 145           0.819596         -0.131979           1.038005          1.448832\n",
       " 146           0.705921         -1.282963           0.553333          0.922303\n",
       " 147           0.819596         -0.131979           0.795669          1.053935\n",
       " 148           0.933271          0.788808           0.432165          1.448832\n",
       " 149           0.762758         -0.131979           0.068662          0.790671\n",
       " \n",
       " [150 rows x 4 columns])"
      ]
     },
     "execution_count": 6,
     "metadata": {},
     "output_type": "execute_result"
    }
   ],
   "source": [
    "# Matriz de covarianzas\n",
    "cov = df_standardized.cov().values\n",
    "cov, df_standardized"
   ]
  },
  {
   "cell_type": "code",
   "execution_count": 7,
   "metadata": {},
   "outputs": [
    {
     "data": {
      "text/plain": [
       "(array([2.93808505, 0.02085386, 0.14774182, 0.9201649 ]),\n",
       " array([[ 0.5804131 , -0.80144925, -0.14212637, -0.02449161],\n",
       "        [-0.26934744, -0.12350962, -0.24438178, -0.92329566],\n",
       "        [ 0.52106591,  0.26128628,  0.71956635, -0.37741762],\n",
       "        [ 0.56485654,  0.52359713, -0.63427274, -0.06694199]]))"
      ]
     },
     "execution_count": 7,
     "metadata": {},
     "output_type": "execute_result"
    }
   ],
   "source": [
    "# Autovalores y autovectores\n",
    "eig_values,eig_vectors = np.linalg.eig(cov)\n",
    "eig_values,eig_vectors"
   ]
  },
  {
   "cell_type": "code",
   "execution_count": 8,
   "metadata": {},
   "outputs": [
    {
     "data": {
      "text/plain": [
       "(array([[ 0.5804131 , -0.26934744,  0.52106591,  0.56485654],\n",
       "        [-0.80144925, -0.12350962,  0.26128628,  0.52359713],\n",
       "        [-0.14212637, -0.24438178,  0.71956635, -0.63427274],\n",
       "        [-0.02449161, -0.92329566, -0.37741762, -0.06694199]]),\n",
       " array([2.93808505, 0.02085386]),\n",
       " array([0, 1], dtype=int64))"
      ]
     },
     "execution_count": 8,
     "metadata": {},
     "output_type": "execute_result"
    }
   ],
   "source": [
    "eig_vectors=eig_vectors.T\n",
    "eig_values=eig_values[0:2]\n",
    "\n",
    "\n",
    "org=np.argsort(eig_values)[::-1]\n",
    "\n",
    "eig_vectors,eig_values,org\n"
   ]
  },
  {
   "cell_type": "code",
   "execution_count": 9,
   "metadata": {},
   "outputs": [
    {
     "data": {
      "text/plain": [
       "array([0.99295225, 0.00704775])"
      ]
     },
     "execution_count": 9,
     "metadata": {},
     "output_type": "execute_result"
    }
   ],
   "source": [
    "# Porcentaje de varianza explicada\n",
    "eig_values/eig_values.sum()"
   ]
  },
  {
   "cell_type": "code",
   "execution_count": 10,
   "metadata": {},
   "outputs": [
    {
     "data": {
      "text/plain": [
       "array([[ 0.5804131 , -0.26934744],\n",
       "       [-0.80144925, -0.12350962],\n",
       "       [-0.14212637, -0.24438178],\n",
       "       [-0.02449161, -0.92329566]])"
      ]
     },
     "execution_count": 10,
     "metadata": {},
     "output_type": "execute_result"
    }
   ],
   "source": [
    "# Autovectores correspondientes a los mayores autovalores\n",
    "max_eigvalues = eig_values.argsort()[-2:][::-1]\n",
    "max_eigvectors = eig_vectors[:,max_eigvalues]\n",
    "max_eigvectors"
   ]
  },
  {
   "cell_type": "code",
   "execution_count": 11,
   "metadata": {},
   "outputs": [
    {
     "data": {
      "text/plain": [
       "array([[-1.11674854e+00,  1.65881028e+00],\n",
       "       [-3.34948252e-01,  1.86624037e+00],\n",
       "       [-8.36507042e-01,  1.88853988e+00],\n",
       "       [-7.38499630e-01,  1.92182759e+00],\n",
       "       [-1.37156698e+00,  1.66301502e+00],\n",
       "       [-1.67441244e+00,  1.16243451e+00],\n",
       "       [-1.28711849e+00,  1.72888765e+00],\n",
       "       [-1.01066303e+00,  1.70598802e+00],\n",
       "       [-5.02094321e-01,  2.05785316e+00],\n",
       "       [-5.24293490e-01,  1.94545425e+00],\n",
       "       [-1.28282643e+00,  1.49014845e+00],\n",
       "       [-1.15939596e+00,  1.75737050e+00],\n",
       "       [-4.02051787e-01,  2.02041205e+00],\n",
       "       [-7.29454589e-01,  2.22526342e+00],\n",
       "       [-1.53075554e+00,  1.31597898e+00],\n",
       "       [-2.36972911e+00,  9.50148230e-01],\n",
       "       [-1.64210005e+00,  1.21799464e+00],\n",
       "       [-1.11997242e+00,  1.53727486e+00],\n",
       "       [-1.27571528e+00,  1.21449268e+00],\n",
       "       [-1.68152359e+00,  1.43809028e+00],\n",
       "       [-7.45509549e-01,  1.54766293e+00],\n",
       "       [-1.50025645e+00,  1.34498637e+00],\n",
       "       [-1.62056427e+00,  1.84912017e+00],\n",
       "       [-7.81672432e-01,  1.30939694e+00],\n",
       "       [-1.18363026e+00,  1.71570041e+00],\n",
       "       [-2.80777027e-01,  1.80582405e+00],\n",
       "       [-1.02518889e+00,  1.44902714e+00],\n",
       "       [-1.05449922e+00,  1.61228399e+00],\n",
       "       [-8.61930095e-01,  1.65460554e+00],\n",
       "       [-8.60741333e-01,  1.84686979e+00],\n",
       "       [-6.05922890e-01,  1.84266505e+00],\n",
       "       [-7.35801122e-01,  1.33237215e+00],\n",
       "       [-2.15822148e+00,  1.56323033e+00],\n",
       "       [-2.12687604e+00,  1.32924465e+00],\n",
       "       [-5.27517374e-01,  1.82391882e+00],\n",
       "       [-6.17446689e-01,  1.80452115e+00],\n",
       "       [-8.27360766e-01,  1.54215529e+00],\n",
       "       [-1.43867052e+00,  1.81718670e+00],\n",
       "       [-6.78507249e-01,  2.04331168e+00],\n",
       "       [-9.40335611e-01,  1.67335176e+00],\n",
       "       [-1.18222174e+00,  1.58380114e+00],\n",
       "       [ 6.80033460e-01,  2.08816060e+00],\n",
       "       [-1.04748930e+00,  1.98644865e+00],\n",
       "       [-1.21612769e+00,  1.17752478e+00],\n",
       "       [-1.71705987e+00,  1.26099473e+00],\n",
       "       [-4.08499555e-01,  1.77734120e+00],\n",
       "       [-1.68637781e+00,  1.54573567e+00],\n",
       "       [-9.14912558e-01,  1.90728611e+00],\n",
       "       [-1.35315385e+00,  1.52278471e+00],\n",
       "       [-8.18093908e-01,  1.74830957e+00],\n",
       "       [ 4.67681680e-01, -7.92780171e-01],\n",
       "       [ 5.86494773e-02, -6.90717997e-01],\n",
       "       [ 5.62465208e-01, -8.81027888e-01],\n",
       "       [ 1.13296019e+00,  1.71412949e-01],\n",
       "       [ 8.58862898e-01, -6.23518224e-01],\n",
       "       [ 3.10769413e-01, -1.05467296e-01],\n",
       "       [-2.15549045e-01, -8.35828743e-01],\n",
       "       [ 5.92722980e-01,  8.00635464e-01],\n",
       "       [ 7.51147060e-01, -4.41515146e-01],\n",
       "       [ 1.88868043e-01,  4.79502643e-02],\n",
       "       [ 1.38485830e+00,  8.53945205e-01],\n",
       "       [ 1.00228724e-01, -4.29003592e-01],\n",
       "       [ 1.67875996e+00,  4.01269457e-01],\n",
       "       [ 3.88207985e-01, -4.13759322e-01],\n",
       "       [ 1.28653844e-01,  2.37477292e-02],\n",
       "       [ 4.65424740e-01, -6.24769794e-01],\n",
       "       [-1.34987823e-01, -3.72764918e-01],\n",
       "       [ 6.07571897e-01,  3.10494363e-01],\n",
       "       [ 1.76290489e+00, -3.41130334e-01],\n",
       "       [ 8.48831419e-01,  3.38874544e-01],\n",
       "       [-3.26893560e-01, -9.33813084e-01],\n",
       "       [ 6.32469574e-01, -1.66562162e-01],\n",
       "       [ 1.24744684e+00, -5.14621262e-01],\n",
       "       [ 5.79146778e-01, -1.42256958e-01],\n",
       "       [ 6.34726514e-01, -3.34572540e-01],\n",
       "       [ 5.79588346e-01, -5.63702023e-01],\n",
       "       [ 1.05691284e+00, -6.27671631e-01],\n",
       "       [ 5.91775530e-01, -1.04428474e+00],\n",
       "       [ 3.30812877e-01, -4.74878427e-01],\n",
       "       [ 7.70204086e-01,  4.54902323e-01],\n",
       "       [ 9.71073123e-01,  4.13832346e-01],\n",
       "       [ 9.82375104e-01,  5.49257802e-01],\n",
       "       [ 6.17280323e-01,  9.52035770e-02],\n",
       "       [ 6.48102459e-01, -6.22891011e-01],\n",
       "       [-2.75642661e-01, -3.07492406e-01],\n",
       "       [-5.94866132e-01, -7.38571427e-01],\n",
       "       [ 4.37966564e-01, -7.87975313e-01],\n",
       "       [ 1.66326715e+00, -1.45237225e-01],\n",
       "       [-9.62276669e-02, -7.41339435e-02],\n",
       "       [ 7.63978136e-01,  1.14549919e-01],\n",
       "       [ 5.50398606e-01,  1.52093702e-01],\n",
       "       [ 2.11795057e-01, -4.28300806e-01],\n",
       "       [ 7.93693251e-01,  1.09745061e-01],\n",
       "       [ 8.47541423e-01,  7.96430723e-01],\n",
       "       [ 4.49167310e-01, -2.72942993e-03],\n",
       "       [-3.07544612e-02,  8.75193375e-04],\n",
       "       [ 1.50512680e-01, -9.22287160e-02],\n",
       "       [ 4.94071676e-01, -2.69300028e-01],\n",
       "       [ 5.69897200e-01,  6.27066107e-01],\n",
       "       [ 3.43081802e-01, -4.99071694e-02],\n",
       "       [-3.49579263e-01, -2.11021797e+00],\n",
       "       [ 4.97775970e-01, -9.22224772e-01],\n",
       "       [ 7.87486795e-01, -1.78598175e+00],\n",
       "       [ 4.43264413e-01, -1.09018382e+00],\n",
       "       [ 3.70376495e-01, -1.69780960e+00],\n",
       "       [ 1.08257721e+00, -2.04639325e+00],\n",
       "       [ 2.88727601e-01, -2.45224400e-01],\n",
       "       [ 1.08999192e+00, -1.51377660e+00],\n",
       "       [ 1.44638199e+00, -1.13478284e+00],\n",
       "       [-2.78183666e-01, -2.50312885e+00],\n",
       "       [ 6.43888933e-02, -1.41437156e+00],\n",
       "       [ 9.03584288e-01, -1.14582237e+00],\n",
       "       [ 6.08816927e-01, -1.63251285e+00],\n",
       "       [ 8.01284814e-01, -9.40370879e-01],\n",
       "       [ 2.97165525e-01, -1.55833341e+00],\n",
       "       [-3.17663718e-02, -1.77412164e+00],\n",
       "       [ 4.07506322e-01, -1.16999781e+00],\n",
       "       [-3.34325552e-01, -2.44190708e+00],\n",
       "       [ 1.86018667e+00, -2.25004439e+00],\n",
       "       [ 1.58185956e+00, -3.45307980e-01],\n",
       "       [ 2.87558334e-01, -1.99286305e+00],\n",
       "       [ 1.85562418e-01, -9.79139137e-01],\n",
       "       [ 1.51703246e+00, -1.91452108e+00],\n",
       "       [ 8.68793142e-01, -9.36090565e-01],\n",
       "       [-3.11397607e-02, -1.71295120e+00],\n",
       "       [ 4.90425719e-01, -1.52476479e+00],\n",
       "       [ 6.22052796e-01, -9.17995792e-01],\n",
       "       [ 1.74665230e-01, -9.56112598e-01],\n",
       "       [ 6.88411204e-01, -1.45899483e+00],\n",
       "       [ 8.82011731e-01, -1.19705085e+00],\n",
       "       [ 1.35774267e+00, -1.61173670e+00],\n",
       "       [-1.62988655e-01, -2.22243865e+00],\n",
       "       [ 6.85187320e-01, -1.58053025e+00],\n",
       "       [ 6.77817575e-01, -6.27695870e-01],\n",
       "       [ 8.68978185e-01, -4.53475061e-01],\n",
       "       [ 1.18684735e+00, -2.25265019e+00],\n",
       "       [-4.98534016e-01, -1.96155394e+00],\n",
       "       [ 1.52687879e-01, -1.16579307e+00],\n",
       "       [ 1.12415908e-01, -9.09586310e-01],\n",
       "       [ 5.02731418e-01, -1.67969059e+00],\n",
       "       [ 3.36248734e-01, -2.00680442e+00],\n",
       "       [ 5.20517941e-01, -1.88109135e+00],\n",
       "       [ 4.97775970e-01, -9.22224772e-01],\n",
       "       [ 2.01074721e-01, -1.98800686e+00],\n",
       "       [-4.40352967e-02, -2.19909290e+00],\n",
       "       [ 5.56276031e-01, -1.80127735e+00],\n",
       "       [ 1.22647321e+00, -1.01465299e+00],\n",
       "       [ 4.25292846e-01, -1.37139857e+00],\n",
       "       [-5.49481356e-01, -1.77960219e+00],\n",
       "       [ 1.78541982e-02, -9.18620149e-01]])"
      ]
     },
     "execution_count": 11,
     "metadata": {},
     "output_type": "execute_result"
    }
   ],
   "source": [
    "# Proyeccion de datos sobre autovectores\n",
    "array_projected = np.dot(array_standardized,max_eigvectors)\n",
    "array_projected"
   ]
  },
  {
   "cell_type": "code",
   "execution_count": 12,
   "metadata": {},
   "outputs": [
    {
     "data": {
      "image/png": "[encoded data removed]",
      "text/plain": [
       "<Figure size 576x432 with 1 Axes>"
      ]
     },
     "metadata": {
      "needs_background": "light"
     },
     "output_type": "display_data"
    }
   ],
   "source": [
    "# Visulizacion de datos en las 2 componentes principales\n",
    "plt.figure(figsize=(8,6))\n",
    "plt.scatter(*array_projected.T)\n",
    "plt.title(\"PCA\", size=15)\n",
    "plt.xlabel(\"PC1\", size=12)\n",
    "plt.ylabel(\"PC2\", size=12)\n",
    "plt.show()"
   ]
  },
  {
   "cell_type": "markdown",
   "metadata": {},
   "source": [
    "# Scikit-learn:"
   ]
  },
  {
   "cell_type": "code",
   "execution_count": 13,
   "metadata": {},
   "outputs": [],
   "source": [
    "from sklearn.decomposition import PCA"
   ]
  },
  {
   "cell_type": "code",
   "execution_count": 14,
   "metadata": {},
   "outputs": [],
   "source": [
    "pca = PCA(n_components=2).fit(df_standardized.values) # Objeto PCA"
   ]
  },
  {
   "cell_type": "code",
   "execution_count": 15,
   "metadata": {},
   "outputs": [
    {
     "data": {
      "text/plain": [
       "array([[ 0.5804131 , -0.26934744,  0.52106591,  0.56485654],\n",
       "       [ 0.02449161,  0.92329566,  0.37741762,  0.06694199]])"
      ]
     },
     "execution_count": 15,
     "metadata": {},
     "output_type": "execute_result"
    }
   ],
   "source": [
    "pca.components_ # Autovectores"
   ]
  },
  {
   "cell_type": "code",
   "execution_count": 16,
   "metadata": {},
   "outputs": [
    {
     "data": {
      "text/plain": [
       "array([2.93808505, 0.9201649 ])"
      ]
     },
     "execution_count": 16,
     "metadata": {},
     "output_type": "execute_result"
    }
   ],
   "source": [
    "pca.explained_variance_ # Autovalores"
   ]
  },
  {
   "cell_type": "code",
   "execution_count": 17,
   "metadata": {},
   "outputs": [
    {
     "data": {
      "text/plain": [
       "array([0.72962445, 0.22850762])"
      ]
     },
     "execution_count": 17,
     "metadata": {},
     "output_type": "execute_result"
    }
   ],
   "source": [
    "pca.explained_variance_ratio_ # Porcentaje de varianza explicada"
   ]
  },
  {
   "cell_type": "code",
   "execution_count": 20,
   "metadata": {},
   "outputs": [
    {
     "data": {
      "text/plain": [
       "array([[-2.26470281,  0.4800266 ],\n",
       "       [-2.08096115, -0.67413356],\n",
       "       [-2.36422905, -0.34190802],\n",
       "       [-2.29938422, -0.59739451],\n",
       "       [-2.38984217,  0.64683538],\n",
       "       [-2.07563095,  1.48917752],\n",
       "       [-2.44402884,  0.0476442 ],\n",
       "       [-2.23284716,  0.22314807],\n",
       "       [-2.33464048, -1.11532768],\n",
       "       [-2.18432817, -0.46901356],\n",
       "       [-2.1663101 ,  1.04369065],\n",
       "       [-2.32613087,  0.13307834],\n",
       "       [-2.2184509 , -0.72867617],\n",
       "       [-2.6331007 , -0.96150673],\n",
       "       [-2.1987406 ,  1.86005711],\n",
       "       [-2.26221453,  2.68628449],\n",
       "       [-2.2075877 ,  1.48360936],\n",
       "       [-2.19034951,  0.48883832],\n",
       "       [-1.898572  ,  1.40501879],\n",
       "       [-2.34336905,  1.12784938],\n",
       "       [-1.914323  ,  0.40885571],\n",
       "       [-2.20701284,  0.92412143],\n",
       "       [-2.7743447 ,  0.45834367],\n",
       "       [-1.81866953,  0.08555853],\n",
       "       [-2.22716331,  0.13725446],\n",
       "       [-1.95184633, -0.62561859],\n",
       "       [-2.05115137,  0.24216355],\n",
       "       [-2.16857717,  0.52714953],\n",
       "       [-2.13956345,  0.31321781],\n",
       "       [-2.26526149, -0.3377319 ],\n",
       "       [-2.14012214, -0.50454069],\n",
       "       [-1.83159477,  0.42369507],\n",
       "       [-2.61494794,  1.79357586],\n",
       "       [-2.44617739,  2.15072788],\n",
       "       [-2.10997488, -0.46020184],\n",
       "       [-2.2078089 , -0.2061074 ],\n",
       "       [-2.04514621,  0.66155811],\n",
       "       [-2.52733191,  0.59229277],\n",
       "       [-2.42963258, -0.90418004],\n",
       "       [-2.16971071,  0.26887896],\n",
       "       [-2.28647514,  0.44171539],\n",
       "       [-1.85812246, -2.33741516],\n",
       "       [-2.5536384 , -0.47910069],\n",
       "       [-1.96444768,  0.47232667],\n",
       "       [-2.13705901,  1.14222926],\n",
       "       [-2.0697443 , -0.71105273],\n",
       "       [-2.38473317,  1.1204297 ],\n",
       "       [-2.39437631, -0.38624687],\n",
       "       [-2.22944655,  0.99795976],\n",
       "       [-2.20383344,  0.00921636],\n",
       "       [ 1.10178118,  0.86297242],\n",
       "       [ 0.73133743,  0.59461473],\n",
       "       [ 1.24097932,  0.61629765],\n",
       "       [ 0.40748306, -1.75440399],\n",
       "       [ 1.0754747 , -0.20842105],\n",
       "       [ 0.38868734, -0.59328364],\n",
       "       [ 0.74652974,  0.77301931],\n",
       "       [-0.48732274, -1.85242909],\n",
       "       [ 0.92790164,  0.03222608],\n",
       "       [ 0.01142619, -1.03401828],\n",
       "       [-0.11019628, -2.65407282],\n",
       "       [ 0.44069345, -0.06329519],\n",
       "       [ 0.56210831, -1.76472438],\n",
       "       [ 0.71956189, -0.18622461],\n",
       "       [-0.0333547 , -0.43900321],\n",
       "       [ 0.87540719,  0.50906396],\n",
       "       [ 0.35025167, -0.19631173],\n",
       "       [ 0.15881005, -0.79209574],\n",
       "       [ 1.22509363, -1.6222438 ],\n",
       "       [ 0.1649179 , -1.30260923],\n",
       "       [ 0.73768265,  0.39657156],\n",
       "       [ 0.47628719, -0.41732028],\n",
       "       [ 1.2341781 , -0.93332573],\n",
       "       [ 0.6328582 , -0.41638772],\n",
       "       [ 0.70266118, -0.06341182],\n",
       "       [ 0.87427365,  0.25079339],\n",
       "       [ 1.25650912, -0.07725602],\n",
       "       [ 1.35840512,  0.33131168],\n",
       "       [ 0.66480037, -0.22592785],\n",
       "       [-0.04025861, -1.05871855],\n",
       "       [ 0.13079518, -1.56227183],\n",
       "       [ 0.02345269, -1.57247559],\n",
       "       [ 0.24153827, -0.77725638],\n",
       "       [ 1.06109461, -0.63384324],\n",
       "       [ 0.22397877, -0.28777351],\n",
       "       [ 0.42913912,  0.84558224],\n",
       "       [ 1.04872805,  0.5220518 ],\n",
       "       [ 1.04453138, -1.38298872],\n",
       "       [ 0.06958832, -0.21950333],\n",
       "       [ 0.28347724, -1.32932464],\n",
       "       [ 0.27907778, -1.12002852],\n",
       "       [ 0.62456979,  0.02492303],\n",
       "       [ 0.33653037, -0.98840402],\n",
       "       [-0.36218338, -2.01923787],\n",
       "       [ 0.28858624, -0.85573032],\n",
       "       [ 0.09136066, -0.18119213],\n",
       "       [ 0.22771687, -0.38492008],\n",
       "       [ 0.57638829, -0.1548736 ],\n",
       "       [-0.44766702, -1.54379203],\n",
       "       [ 0.25673059, -0.5988518 ],\n",
       "       [ 1.84456887,  0.87042131],\n",
       "       [ 1.15788161, -0.69886986],\n",
       "       [ 2.20526679,  0.56201048],\n",
       "       [ 1.44015066, -0.04698759],\n",
       "       [ 1.86781222,  0.29504482],\n",
       "       [ 2.75187334,  0.8004092 ],\n",
       "       [ 0.36701769, -1.56150289],\n",
       "       [ 2.30243944,  0.42006558],\n",
       "       [ 2.00668647, -0.71143865],\n",
       "       [ 2.25977735,  1.92101038],\n",
       "       [ 1.36417549,  0.69275645],\n",
       "       [ 1.60267867, -0.42170045],\n",
       "       [ 1.8839007 ,  0.41924965],\n",
       "       [ 1.2601151 , -1.16226042],\n",
       "       [ 1.4676452 , -0.44227159],\n",
       "       [ 1.59007732,  0.67624481],\n",
       "       [ 1.47143146,  0.25562182],\n",
       "       [ 2.42632899,  2.55666125],\n",
       "       [ 3.31069558,  0.01778095],\n",
       "       [ 1.26376667, -1.70674538],\n",
       "       [ 2.0377163 ,  0.91046741],\n",
       "       [ 0.97798073, -0.57176432],\n",
       "       [ 2.89765149,  0.41364106],\n",
       "       [ 1.33323218, -0.48181122],\n",
       "       [ 1.7007339 ,  1.01392187],\n",
       "       [ 1.95432671,  1.0077776 ],\n",
       "       [ 1.17510363, -0.31639447],\n",
       "       [ 1.02095055,  0.06434603],\n",
       "       [ 1.78834992, -0.18736121],\n",
       "       [ 1.86364755,  0.56229073],\n",
       "       [ 2.43595373,  0.25928443],\n",
       "       [ 2.30492772,  2.62632347],\n",
       "       [ 1.86270322, -0.17854949],\n",
       "       [ 1.11414774, -0.29292262],\n",
       "       [ 1.2024733 , -0.81131527],\n",
       "       [ 2.79877045,  0.85680333],\n",
       "       [ 1.57625591,  1.06858111],\n",
       "       [ 1.3462921 ,  0.42243061],\n",
       "       [ 0.92482492,  0.0172231 ],\n",
       "       [ 1.85204505,  0.67612817],\n",
       "       [ 2.01481043,  0.61388564],\n",
       "       [ 1.90178409,  0.68957549],\n",
       "       [ 1.15788161, -0.69886986],\n",
       "       [ 2.04055823,  0.8675206 ],\n",
       "       [ 1.9981471 ,  1.04916875],\n",
       "       [ 1.87050329,  0.38696608],\n",
       "       [ 1.56458048, -0.89668681],\n",
       "       [ 1.5211705 ,  0.26906914],\n",
       "       [ 1.37278779,  1.01125442],\n",
       "       [ 0.96065603, -0.02433167]])"
      ]
     },
     "execution_count": 20,
     "metadata": {},
     "output_type": "execute_result"
    }
   ],
   "source": [
    "pca_projection = pca.transform(df_standardized.values) # Datos proyectados en componentes principales\n",
    "pca_projection"
   ]
  },
  {
   "cell_type": "code",
   "execution_count": 19,
   "metadata": {},
   "outputs": [
    {
     "data": {
      "image/png": "[encoded data removed]",
      "text/plain": [
       "<Figure size 576x432 with 1 Axes>"
      ]
     },
     "metadata": {
      "needs_background": "light"
     },
     "output_type": "display_data"
    }
   ],
   "source": [
    "plt.figure(figsize=(8,6))\n",
    "plt.scatter(*pca_projection.T)\n",
    "plt.title(\"PCA\", size=15)\n",
    "plt.xlabel(\"PC1\", size=12)\n",
    "plt.ylabel(\"PC2\", size=12)\n",
    "plt.show()"
   ]
  },
  {
   "cell_type": "markdown",
   "metadata": {},
   "source": [
    "Visualizacion 3D: https://scikit-learn.org/stable/auto_examples/datasets/plot_iris_dataset.html\n"
   ]
  }
 ],
 "metadata": {
  "interpreter": {
   "hash": "7cb436972df7f504d1b17ca4b6a761f81783dbdedd133c77f170786925feffbd"
  },
  "kernelspec": {
   "display_name": "Python 3 (ipykernel)",
   "language": "python",
   "name": "python3"
  },
  "language_info": {
   "codemirror_mode": {
    "name": "ipython",
    "version": 3
   },
   "file_extension": ".py",
   "mimetype": "text/x-python",
   "name": "python",
   "nbconvert_exporter": "python",
   "pygments_lexer": "ipython3",
   "version": "3.8.3"
  }
 },
 "nbformat": 4,
 "nbformat_minor": 4
}

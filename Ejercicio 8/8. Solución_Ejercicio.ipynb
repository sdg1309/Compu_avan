{
 "cells": [
  {
   "cell_type": "code",
   "execution_count": 1,
   "id": "1c538fdc",
   "metadata": {},
   "outputs": [
    {
     "name": "stdout",
     "output_type": "stream",
     "text": [
      "Precisión Regresión Logística (validation): 0.9912280701754386\n",
      "Precisión KNN (validation): 0.956140350877193\n",
      "\n",
      "Mejor modelo: Regresión Logística\n",
      "\n",
      "Precisión del mejor modelo en TEST: 0.9825\n"
     ]
    }
   ],
   "source": [
    "# --- SOLUCIÓN PASO 1 ---\n",
    "import numpy as np\n",
    "from sklearn.datasets import load_breast_cancer\n",
    "from sklearn.model_selection import train_test_split\n",
    "from sklearn.preprocessing import StandardScaler\n",
    "from sklearn.linear_model import LogisticRegression\n",
    "from sklearn.pipeline import make_pipeline\n",
    "from sklearn.metrics import accuracy_score\n",
    "from sklearn.neighbors import KNeighborsClassifier\n",
    "\n",
    "# --- SOLUCIÓN PASO 2 ---\n",
    "data = load_breast_cancer()\n",
    "X, y = data.data, data.target\n",
    "\n",
    "X_temp, X_test, y_temp, y_test = train_test_split(\n",
    "    X, y, \n",
    "    test_size=0.2, \n",
    "    stratify=y, \n",
    "    random_state=42\n",
    ")\n",
    "X_train, X_val, y_train, y_val = train_test_split(\n",
    "    X_temp, y_temp, \n",
    "    test_size=0.25,  # 0.25 * 0.8 = 0.2 (20% del total)\n",
    "    stratify=y_temp,\n",
    "    random_state=42\n",
    ")\n",
    "\n",
    "# --- SOLUCIÓN PASO 3 ---\n",
    "pipe_lr = make_pipeline(\n",
    "    StandardScaler(), \n",
    "    LogisticRegression(max_iter=1000)\n",
    ")\n",
    "\n",
    "pipe_knn = make_pipeline(\n",
    "    StandardScaler(),\n",
    "    KNeighborsClassifier(n_neighbors=5)\n",
    ")\n",
    "\n",
    "pipe_lr.fit(X_train, y_train)\n",
    "pipe_knn.fit(X_train, y_train)\n",
    "\n",
    "# --- SOLUCIÓN PASO 4 ---\n",
    "y_pred_val_lr = pipe_lr.predict(X_val)\n",
    "y_pred_val_knn = pipe_knn.predict(X_val)\n",
    "\n",
    "lr_acc = accuracy_score(y_val, y_pred_val_lr)\n",
    "knn_acc = accuracy_score(y_val, y_pred_val_knn)\n",
    "\n",
    "print(\"Precisión Regresión Logística (validation):\", lr_acc)\n",
    "print(\"Precisión KNN (validation):\", knn_acc)\n",
    "\n",
    "if lr_acc > knn_acc:\n",
    "    best_model = pipe_lr\n",
    "    print(\"\\nMejor modelo: Regresión Logística\")\n",
    "else:\n",
    "    best_model = pipe_knn\n",
    "    print(\"\\nMejor modelo: KNN\")\n",
    "\n",
    "y_pred_test = best_model.predict(X_test)\n",
    "test_accuracy = accuracy_score(y_test, y_pred_test)\n",
    "print(f\"\\nPrecisión del mejor modelo en TEST: {test_accuracy:.4f}\")"
   ]
  }
 ],
 "metadata": {
  "kernelspec": {
   "display_name": "Python 3",
   "language": "python",
   "name": "python3"
  },
  "language_info": {
   "codemirror_mode": {
    "name": "ipython",
    "version": 3
   },
   "file_extension": ".py",
   "mimetype": "text/x-python",
   "name": "python",
   "nbconvert_exporter": "python",
   "pygments_lexer": "ipython3",
   "version": "3.12.8"
  }
 },
 "nbformat": 4,
 "nbformat_minor": 5
}
